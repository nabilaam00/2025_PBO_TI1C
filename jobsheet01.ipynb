{
  "nbformat": 4,
  "nbformat_minor": 0,
  "metadata": {
    "colab": {
      "provenance": [],
      "authorship_tag": "ABX9TyMoRzhWR0alnCG4f8XqSPWT",
      "include_colab_link": true
    },
    "kernelspec": {
      "name": "python3",
      "display_name": "Python 3"
    },
    "language_info": {
      "name": "python"
    }
  },
  "cells": [
    {
      "cell_type": "markdown",
      "metadata": {
        "id": "view-in-github",
        "colab_type": "text"
      },
      "source": [
        "<a href=\"https://colab.research.google.com/github/nabilaam00/PBO_NabilaMunir/blob/main/jobsheet01.ipynb\" target=\"_parent\"><img src=\"https://colab.research.google.com/assets/colab-badge.svg\" alt=\"Open In Colab\"/></a>"
      ]
    },
    {
      "cell_type": "code",
      "execution_count": 1,
      "metadata": {
        "colab": {
          "base_uri": "https://localhost:8080/"
        },
        "id": "V2ApXU4aGfPX",
        "outputId": "d16e1112-aa04-4547-86aa-bf9a1d2bc7f5"
      },
      "outputs": [
        {
          "output_type": "stream",
          "name": "stdout",
          "text": [
            "angka_int = 10 -> <class 'int'>\n",
            "Integer merupakan tipe data yang menyimpan bilangan bulat\n",
            "angka_float = 3.14 -> <class 'float'>\n",
            "Float merupakan tipe data yang menyimpan bilangan desimal\n",
            "angka_complex = (2+3j) -> <class 'complex'>\n",
            "Tipe data complex merupakan tipe data yang menyimpan bilangan kompleks, terdiri dari bagian real dan imajiner\n"
          ]
        }
      ],
      "source": [
        "# 1. Number (int,float,complex)\n",
        "# Integer (int)\n",
        "angka_int = 10\n",
        "print(\"angka_int =\", angka_int, \"->\", type(angka_int))\n",
        "print(\"Integer merupakan tipe data yang menyimpan bilangan bulat\")\n",
        "\n",
        "# Float\n",
        "angka_float = 3.14\n",
        "print(\"angka_float =\", angka_float, \"->\", type(angka_float))\n",
        "print(\"Float merupakan tipe data yang menyimpan bilangan desimal\")\n",
        "\n",
        "#  Complex\n",
        "angka_complex = 2 + 3j\n",
        "print(\"angka_complex =\", angka_complex, \"->\", type(angka_complex))\n",
        "print(\"Tipe data complex merupakan tipe data yang menyimpan bilangan kompleks, terdiri dari bagian real dan imajiner\")\n"
      ]
    },
    {
      "cell_type": "code",
      "source": [
        "# 2. Boolean\n",
        "is_active = True\n",
        "print(\"is_active =\", is_active, \"->\", type(is_active))"
      ],
      "metadata": {
        "id": "XUCEtddHJQKE"
      },
      "execution_count": null,
      "outputs": []
    }
  ]
}