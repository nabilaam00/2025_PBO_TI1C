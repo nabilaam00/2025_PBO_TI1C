{
  "nbformat": 4,
  "nbformat_minor": 0,
  "metadata": {
    "colab": {
      "provenance": [],
      "authorship_tag": "ABX9TyP6ZElJ5oJSrBxE0FBq5S5Y",
      "include_colab_link": true
    },
    "kernelspec": {
      "name": "python3",
      "display_name": "Python 3"
    },
    "language_info": {
      "name": "python"
    }
  },
  "cells": [
    {
      "cell_type": "markdown",
      "metadata": {
        "id": "view-in-github",
        "colab_type": "text"
      },
      "source": [
        "<a href=\"https://colab.research.google.com/github/nabilaam00/2025_PBO_TI1C/blob/main/BMI.ipynb\" target=\"_parent\"><img src=\"https://colab.research.google.com/assets/colab-badge.svg\" alt=\"Open In Colab\"/></a>"
      ]
    },
    {
      "cell_type": "code",
      "execution_count": 1,
      "metadata": {
        "id": "GxEDtweCrCWc",
        "colab": {
          "base_uri": "https://localhost:8080/"
        },
        "outputId": "2d0f2e55-8201-4e8f-ea94-422d888c6388"
      },
      "outputs": [
        {
          "output_type": "stream",
          "name": "stdout",
          "text": [
            "=========PROGRAM HITUNG BMI=========\n",
            "\n",
            "Masukkan berat badan Anda dalam kg:10\n",
            "Masukkan tinggi badan Anda dalam cm:100\n",
            "Nilai BMI Anda adalah: 10.0 , Anda termasuk dalam kategori Underweight\n",
            "\n",
            "Terimakasih sudah menggunakan layanan kami\n"
          ]
        }
      ],
      "source": [
        "print(\"=========PROGRAM HITUNG BMI=========\")\n",
        "print()\n",
        "while True:\n",
        "  try:\n",
        "    berat = float(input(\"Masukkan berat badan Anda dalam kg:\"))\n",
        "    tinggi = float(input(\"Masukkan tinggi badan Anda dalam cm:\"))\n",
        "    break\n",
        "  except ValueError:\n",
        "    print(\"Input tidak valid, silahkan masukkan bilangan yang sesuai\")\n",
        "\n",
        "# Konversi berat dan tinggi\n",
        "tinggi_m = tinggi/100\n",
        "tinggi_m2 = tinggi_m ** 2\n",
        "\n",
        "# Hitung BMI\n",
        "BMI = round(berat/tinggi_m2, 3)\n",
        "\n",
        "# Mencari status\n",
        "if BMI < 18.5:\n",
        "  kategori = \"Underweight\"\n",
        "elif 18.5 <= BMI <= 24.9 :\n",
        "  kategori = \"Normal\"\n",
        "elif 25 <= BMI <= 29.9:\n",
        "  kategori = \"Overweight\"\n",
        "else:\n",
        "  kategori = \"Obesitas\"\n",
        "\n",
        "# Menampilkan hasil\n",
        "print(\"Nilai BMI Anda adalah:\", BMI, \", Anda termasuk dalam kategori\", kategori)\n",
        "print()\n",
        "print(\"Terimakasih sudah menggunakan layanan kami\")"
      ]
    },
    {
      "cell_type": "code",
      "source": [],
      "metadata": {
        "id": "3zTzgXACbuTr"
      },
      "execution_count": null,
      "outputs": []
    }
  ]
}