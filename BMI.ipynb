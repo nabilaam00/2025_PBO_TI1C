{
  "nbformat": 4,
  "nbformat_minor": 0,
  "metadata": {
    "colab": {
      "provenance": [],
      "authorship_tag": "ABX9TyOq7S3xcQ9GwH4ZDdKL/wmK",
      "include_colab_link": true
    },
    "kernelspec": {
      "name": "python3",
      "display_name": "Python 3"
    },
    "language_info": {
      "name": "python"
    }
  },
  "cells": [
    {
      "cell_type": "markdown",
      "metadata": {
        "id": "view-in-github",
        "colab_type": "text"
      },
      "source": [
        "<a href=\"https://colab.research.google.com/github/nabilaam00/PBO_NabilaMunir/blob/main/BMI.ipynb\" target=\"_parent\"><img src=\"https://colab.research.google.com/assets/colab-badge.svg\" alt=\"Open In Colab\"/></a>"
      ]
    },
    {
      "cell_type": "code",
      "execution_count": 13,
      "metadata": {
        "id": "GxEDtweCrCWc",
        "colab": {
          "base_uri": "https://localhost:8080/"
        },
        "outputId": "0a10f7c3-8503-47bd-8642-2af90edf4315"
      },
      "outputs": [
        {
          "output_type": "stream",
          "name": "stdout",
          "text": [
            "=========PROGRAM HITUNG BMI=========\n",
            "\n",
            "Masukkan berat badan Anda dalam kg:20\n",
            "Masukkan tinggi badan Anda dalam cm:100\n",
            "Nilai BMI Anda adalah: 20.0 , Anda termasuk dalam kategori Normal\n",
            "\n",
            "Terimakasih sudah menggunakan layanan kami\n"
          ]
        }
      ],
      "source": [
        "print(\"=========PROGRAM HITUNG BMI=========\")\n",
        "print()\n",
        "while True:\n",
        "  try:\n",
        "    berat = float(input(\"Masukkan berat badan Anda dalam kg:\"))\n",
        "    tinggi = float(input(\"Masukkan tinggi badan Anda dalam cm:\"))\n",
        "    break\n",
        "  except ValueError:\n",
        "    print(\"Input tidak valid, silahkan masukkan bilangan yang sesuai\")\n",
        "\n",
        "# Konversi berat dan tinggi\n",
        "tinggi_m = tinggi/100\n",
        "tinggi_m2 = tinggi_m ** 2\n",
        "\n",
        "# Hitung BMI\n",
        "BMI = round(berat/tinggi_m2, 3)\n",
        "\n",
        "# Mencari status\n",
        "if BMI < 18.5:\n",
        "  kategori = \"Underweight\"\n",
        "elif 18.5 <= BMI <= 24.9 :\n",
        "  kategori = \"Normal\"\n",
        "elif 25 <= BMI <= 29.9:\n",
        "  kategori = \"Overweight\"\n",
        "else:\n",
        "  kategori = \"Obesitas\"\n",
        "\n",
        "# Menampilkan hasil\n",
        "print(\"Nilai BMI Anda adalah:\", BMI, \", Anda termasuk dalam kategori\", kategori)\n",
        "print()\n",
        "print(\"Terimakasih sudah menggunakan layanan kami\")"
      ]
    }
  ]
}