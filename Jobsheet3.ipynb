{
  "nbformat": 4,
  "nbformat_minor": 0,
  "metadata": {
    "colab": {
      "provenance": [],
      "authorship_tag": "ABX9TyPSoPMl2+B4jydtx9gmjSqp",
      "include_colab_link": true
    },
    "kernelspec": {
      "name": "python3",
      "display_name": "Python 3"
    },
    "language_info": {
      "name": "python"
    }
  },
  "cells": [
    {
      "cell_type": "markdown",
      "metadata": {
        "id": "view-in-github",
        "colab_type": "text"
      },
      "source": [
        "<a href=\"https://colab.research.google.com/github/nabilaam00/2025_PBO_TI1C/blob/main/Jobsheet3.ipynb\" target=\"_parent\"><img src=\"https://colab.research.google.com/assets/colab-badge.svg\" alt=\"Open In Colab\"/></a>"
      ]
    },
    {
      "cell_type": "markdown",
      "source": [
        "## **Praktikum 01: Enkapsulasi pada kelas Bank Account**"
      ],
      "metadata": {
        "id": "ry4aYfkWuDki"
      }
    },
    {
      "cell_type": "code",
      "source": [
        "class BankAccount:\n",
        "  def __init__(self, owner, balance):\n",
        "  # Atribut dengan double underscore (__) dianggap \"private\" di python\n",
        "    self.__owner = owner\n",
        "    self.__balance = balance\n",
        "\n",
        "  def deposit(self, amount):\n",
        "    \"\"\"Metode untuk menambahkan saldo\"\"\"\n",
        "    if amount > 0:\n",
        "      self.__balance += amount\n",
        "      print(f\"{amount} telah ditambahkan ke akun {self.__owner}\")\n",
        "    else:\n",
        "      print(\"Jumlah deposito harus lebih dari 0\")\n",
        "\n",
        "  def withdraw(self, amount):\n",
        "    \"\"\"Metode untuk menarik saldo\"\"\"\n",
        "    if amount <= self.__balance:\n",
        "      self.__balance -= amount\n",
        "      print(f\"{amount} telah ditarik dari akun {self.__owner}\")\n",
        "    else:\n",
        "      print(\"Saldo tidak mencukupi\")\n",
        "\n",
        "  def get_balance(self):\n",
        "    \"\"\"Metode untuk mendapatkan informasi saldo terkini\"\"\"\n",
        "    return self.__balance\n",
        "\n",
        "# Contoh penggunaan\n",
        "if __name__ == \"__main__\":\n",
        "    # Membuat objek BankAccount dengan owner=\"Alice\" dan balance awal 1000\n",
        "    alice_account = BankAccount(owner=\"Alice\", balance =1000)\n",
        "\n",
        "    # Deposit uang\n",
        "    alice_account.deposit(500)    # Berhasil\n",
        "    alice_account.deposit(-100)   # Gagal (validasi)\n",
        "\n",
        "    # Withdraw uang\n",
        "    alice_account.withdraw(300)   # Berhasil\n",
        "    alice_account.withdraw(1500)  # Gagal (saldo tidak cukup)\n",
        "\n",
        "    # Mendapatkan saldo\n",
        "    current_balance = alice_account.get_balance()\n",
        "    print(f\"Saldo terakhir di akun {alice_account._BankAccount__owner}: {current_balance}\")\n",
        "\n",
        "    # Mencoba mengakses atribut 'private' langsung (tidak direkomendasikan)\n",
        "    # alice_account._balance # Akan error\n",
        "    # Karena python \"mangling\" nama atribut __balance menjadi BankAccount__balance\n",
        "    # Ini adalah salah satu mekanisme enkapsulasi sederhana"
      ],
      "metadata": {
        "colab": {
          "base_uri": "https://localhost:8080/"
        },
        "id": "npkbjBNduRut",
        "outputId": "f06bd108-0912-4373-a132-2d6f535ad237"
      },
      "execution_count": null,
      "outputs": [
        {
          "output_type": "stream",
          "name": "stdout",
          "text": [
            "500 telah ditambahkan ke akun Alice\n",
            "Jumlah deposito harus lebih dari 0\n",
            "300 telah ditarik dari akun Alice\n",
            "Saldo tidak mencukupi\n",
            "Saldo terakhir di akun Alice: 1200\n"
          ]
        }
      ]
    },
    {
      "cell_type": "markdown",
      "source": [
        "## **Praktikum 02: Enkapsulasi pada kelas Employee**"
      ],
      "metadata": {
        "id": "AWGvFnnk1z8u"
      }
    },
    {
      "cell_type": "code",
      "source": [
        "class Employee:\n",
        "  def __init__(self, name, salary):\n",
        "    # Atribut privat dengan double underscore\n",
        "    self.__name = name\n",
        "    self.__salary = salary\n",
        "\n",
        "  def update_salary(self, increase):\n",
        "    \"\"\"Method untuk menaikkan gaji dengan validasi\"\"\"\n",
        "    if increase > 0:\n",
        "      self.__salary += increase\n",
        "      print(f\"Gaji telah dinaikkan sebesar {increase}.\")\n",
        "    else:\n",
        "      print(\"Nilai kenaikan harus lebih dari 0.\")\n",
        "\n",
        "  def set_salary(self, new_salary):\n",
        "    \"\"\"Method untuk mengubah gaji dengan validasi\"\"\"\n",
        "    if new_salary >= 0:\n",
        "      self.__salary = new_salary\n",
        "      print(f\"Gaji diatur ulang menjadi {new_salary}.\")\n",
        "    else:\n",
        "      print(\"Gaji tidak dapat bernilai negatif\")\n",
        "\n",
        "  def get_salary(self):\n",
        "    \"\"\"Method untuk mendapatkan informasi gaji\"\"\"\n",
        "    return self.__salary\n",
        "\n",
        "  def get_employee_info(self):\n",
        "    \"\"\"Method untuk menampilkan informasi karyawan secara menyeluruh\"\"\"\n",
        "    return f\"Employee: {self.__name}, Gaji: {self.__salary}\"\n",
        "\n",
        "# Contoh penggunaan\n",
        "if __name__ == \"__main__\":\n",
        "  # Membuat objek Employee dengan nama \"John Doe dan gaji awal 50000\n",
        "  employee1 = Employee(\"John Doe\", 50000)\n",
        "\n",
        "  # Tampilkan informasi karyawan\n",
        "  print(employee1.get_employee_info())\n",
        "\n",
        "  # Update gaji dengan menaikkan sebesar 5000\n",
        "  employee1.update_salary(5000)\n",
        "  print(f\"Gaji setelah kenaikan: {employee1.get_salary()}\")\n",
        "\n",
        "  # Atur ulang gaji dengan nilai baru\n",
        "  employee1.set_salary(60000)\n",
        "  print(f\"Informasi terbaru: {employee1.get_employee_info()}\")\n",
        "\n",
        "  # Mencoba mengakses atribut privat secara langsung (tidak direkomendasikan)\n",
        "  # Contoh: print(employee1.__salary) --> Ini akan menimbulkan error"
      ],
      "metadata": {
        "colab": {
          "base_uri": "https://localhost:8080/"
        },
        "id": "osxVYfaQ2OIB",
        "outputId": "21a258ee-999f-41e4-a2cc-9761ca0e2d31"
      },
      "execution_count": 1,
      "outputs": [
        {
          "output_type": "stream",
          "name": "stdout",
          "text": [
            "Employee: John Doe, Gaji: 50000\n",
            "Gaji telah dinaikkan sebesar 5000.\n",
            "Gaji setelah kenaikan: 55000\n",
            "Gaji diatur ulang menjadi 60000.\n",
            "Informasi terbaru: Employee: John Doe, Gaji: 60000\n"
          ]
        }
      ]
    },
    {
      "cell_type": "markdown",
      "source": [
        "## **Praktikum 03: Konstruktor dan Destruktor Sederhana**"
      ],
      "metadata": {
        "id": "O0aUvTDOHb-l"
      }
    },
    {
      "cell_type": "code",
      "source": [
        "class SimpleExample:\n",
        "  def __init__(self, name):\n",
        "    \"\"\"Konstruktor: Dipanggil saat objek dibuat.\n",
        "       Menyimpan nilai 'name' dan mencetak pesan pembuatan objek\"\"\"\n",
        "    self.name = name\n",
        "    print(f\"Konstruktor: Objek '{self.name}' telah dibuat.\")\n",
        "\n",
        "  def __del__(self):\n",
        "    \"\"\"Destruktor: Dipanggil saat objek dihapus.\n",
        "       Mencetak pesan bahwa objek sedang dihapus.\"\"\"\n",
        "    print(f\"Destruktor: Objek '{self.name}' sedang dihapus\")\n",
        "\n",
        "\n",
        "def main():\n",
        "  print(\"Program dimulai.\\n\")\n",
        "\n",
        "  # Membuat objek SimpleExample\n",
        "  obj = SimpleExample(\"Demo\")\n",
        "  print(\"Program sedang berjalan...\\n\")\n",
        "\n",
        "  # Menghapus objek secara eksplisit\n",
        "  del obj\n",
        "  print(\"Objek telah dihapus secara eksplisit.\\n\")\n",
        "\n",
        "  print(\"Program selesai\")\n",
        "\n",
        "if __name__ == \"__main__\":\n",
        "  main()"
      ],
      "metadata": {
        "colab": {
          "base_uri": "https://localhost:8080/"
        },
        "id": "RMXZGld6HjZs",
        "outputId": "6f629422-06f0-400a-ac48-7e9de46ce9de"
      },
      "execution_count": null,
      "outputs": [
        {
          "output_type": "stream",
          "name": "stdout",
          "text": [
            "Program dimulai.\n",
            "\n",
            "Konstruktor: Objek 'Demo' telah dibuat.\n",
            "Program sedang berjalan...\n",
            "\n",
            "Destruktor: Objek 'Demo' sedang dihapus\n",
            "Objek telah dihapus secara eksplisit.\n",
            "\n",
            "Program selesai\n"
          ]
        }
      ]
    },
    {
      "cell_type": "markdown",
      "source": [
        "## **Praktikum 04: Konstruktor dan Destruktor program FileLogger**"
      ],
      "metadata": {
        "id": "9Uv-ShgBYbVM"
      }
    },
    {
      "cell_type": "code",
      "source": [
        "class FileLogger:\n",
        "  def __init__(self, filename):\n",
        "    \"\"\"Konstruktor: Membuka file log untuk menulis pesan.\n",
        "       Parameter:\n",
        "        - filename: Nama file tempat pesan log akan ditulis.\"\"\"\n",
        "    self.filename = filename\n",
        "    try:\n",
        "      self.file = open(filename, \"a\") # Membuka file dalam mode append\n",
        "      print(f\"File '{filename} berhasil dibuka untuk logging.'\")\n",
        "    except Exception as e:\n",
        "      print(f\"Gagal membuka file '{filename}': {e}\")\n",
        "\n",
        "  def write_log(self, message):\n",
        "    \"\"\"Menulis pesan log ke dalam file.\n",
        "       Parameter: - message: Pesan yang akan ditulis ke file\"\"\"\n",
        "    self.file.write(message + \"\\n\")\n",
        "    self.file.flush() # Memastikan pesan langsung ditulis ke disk\n",
        "    print(f\"Pesan log: '{message}' telah ditulis.\")\n",
        "\n",
        "  def __del__(self):\n",
        "    \"\"\"Destruktor: Menutup file log saat objek dihapus.\"\"\"\n",
        "    if hasattr(self, \"file\") and not self.file.closed:\n",
        "      self.file.close()\n",
        "      print(f\"File '{self.filename}' telah ditutup.\")\n",
        "\n",
        "# Contoh penggunaan dalam skenario nyata aplikasi\n",
        "if __name__ == \"__main__\":\n",
        "  # Membuat objek logger untuk file \"application.log\"\n",
        "  logger = FileLogger(\"application.log\")\n",
        "\n",
        "  # Menulis beberapa pesan log selama operasi aplikasi\n",
        "  logger.write_log(\"Aplikasi dimulai.\")\n",
        "  logger.write_log(\"Melakukan operasi A...\")\n",
        "  logger.write_log(\"Operasi A selesai.\")\n",
        "  logger.write_log(\"Aplikasi akan segera selesai.\")\n",
        "\n",
        "  # Menghapus objek logger secara eksplisit\n",
        "  del logger\n",
        "\n",
        "  # Jika objek tidak dihapus secara eksplisit, destruktor akan dipanggil\n",
        "    # ketika program berakhir dan garbage collection membersihkan objek tersebut.\n"
      ],
      "metadata": {
        "id": "KWPXCGZlYkLc",
        "colab": {
          "base_uri": "https://localhost:8080/"
        },
        "outputId": "6e093ad2-81f3-4d02-a3d1-0ba977a6622b"
      },
      "execution_count": null,
      "outputs": [
        {
          "output_type": "stream",
          "name": "stdout",
          "text": [
            "File 'application.log berhasil dibuka untuk logging.'\n",
            "Pesan log: 'Aplikasi dimulai.' telah ditulis.\n",
            "Pesan log: 'Melakukan operasi A...' telah ditulis.\n",
            "Pesan log: 'Operasi A selesai.' telah ditulis.\n",
            "Pesan log: 'Aplikasi akan segera selesai.' telah ditulis.\n",
            "File 'application.log' telah ditutup.\n"
          ]
        }
      ]
    },
    {
      "cell_type": "markdown",
      "source": [
        "## **Praktikum 05: Properti \"self\" pada kelas**"
      ],
      "metadata": {
        "id": "VnLNwqs3uICb"
      }
    },
    {
      "cell_type": "code",
      "source": [
        "class Calculator:\n",
        "  def __init__(self, initial_value=0):\n",
        "    \"\"\"Konstruktor kelas Calculator\n",
        "       - self: Mengacu pada instance yang dibuat.\n",
        "       - initial_value: Nilai awal dari kalkulator.\"\"\"\n",
        "    self.value = initial_value\n",
        "    print(f\"Kalkulator diinisialisasi dengan nilai: {self.value}\")\n",
        "\n",
        "  def add(self, number):\n",
        "    \"\"\"Menambahkan 'number' ke nilai yang tersimpan di objek.\n",
        "       - self.value: Menunjukkan nilai saat ini yang disimpan di objek tersebut.\n",
        "       - number = Nilai yang akan ditambahkan\"\"\"\n",
        "    self.value += number\n",
        "    print(f\"Setelah penambahan {number}, nilai sekarang adalah: {self.value}\")\n",
        "\n",
        "  def subtract(self, number):\n",
        "    \"\"\"Mengurangi 'number' dari nilai yang tersimpan.\n",
        "       - self.value: Nilai saat ini dalam objek.\n",
        "       - number: Nilai yang akan dikurangkan\"\"\"\n",
        "    self.value -= number\n",
        "    print(f\"Setelah pengurangan {number}, nilai sekarang adalah: {self.value}\")\n",
        "\n",
        "  def reset(self):\n",
        "    \"\"\"Mengatur ulang nilai kalkulator ke 0.\"\"\"\n",
        "    self.value = 0\n",
        "    print(\"Nilai kalkulator telah direset ke 0.\")\n",
        "\n",
        "  def show_value(self):\n",
        "    \"\"\"Menampilkan nilai saat ini dari kalkulator\"\"\"\n",
        "    print(f\"Nilai saat ini adalah: {self.value}\")\n",
        "\n",
        "\n",
        "# Contoh penggunaan untuk memahami peran 'self'\n",
        "def main():\n",
        "  # Membuat objek Calculator dengan nilai awal 10\n",
        "  calc1 = Calculator(initial_value=10)\n",
        "\n",
        "  # Menggunakan metode dari objek calc1\n",
        "  calc1.add(5)            # Menambah 5 ke nilai calc2\n",
        "  calc1.subtract(3)       # Mengurangi 3 dari nilai calc1\n",
        "  calc1.show_value()      # Menampilkan nilai calc1\n",
        "\n",
        "  # Membuat objek Calculator lainnya dengan nilai awal default (0)\n",
        "  calc2 = Calculator()\n",
        "  calc2.add(20)           # Menambah 20 ke nilai calc2\n",
        "  calc2.show_value()      # Menampilkan nilai calc2\n",
        "\n",
        "  # Penjelasan peran self:\n",
        "  # 'self' memungkinkan setiap instance (calc1, calc2) memiliki atribut 'value'masing-masing\n",
        "  # Perubahan yang dilakukan pada calc1 tidak akan mempengaruhi calc2, karena masing-masing\n",
        "  # mengacu pada self yang berbeda (instance yang berbeda).\n",
        "\n",
        "if __name__ == \"__main__\":\n",
        "  main()"
      ],
      "metadata": {
        "colab": {
          "base_uri": "https://localhost:8080/"
        },
        "id": "_YmM_jBCuPNo",
        "outputId": "2f34fb16-243c-4920-93c6-9a771ac0f6f4"
      },
      "execution_count": null,
      "outputs": [
        {
          "output_type": "stream",
          "name": "stdout",
          "text": [
            "Kalkulator diinisialisasi dengan nilai: 10\n",
            "Setelah penambahan 5, nilai sekarang adalah: 15\n",
            "Setelah pengurangan 3, nilai sekarang adalah: 12\n",
            "Nilai saat ini adalah: 12\n",
            "Kalkulator diinisialisasi dengan nilai: 0\n",
            "Setelah penambahan 20, nilai sekarang adalah: 20\n",
            "Nilai saat ini adalah: 20\n"
          ]
        }
      ]
    },
    {
      "cell_type": "markdown",
      "source": [
        "## **Praktikum 06: Menggunakan getter, setter, dan dekorator @property untuk mengelola akses atribut**"
      ],
      "metadata": {
        "id": "A_jtnbWExWto"
      }
    },
    {
      "cell_type": "code",
      "source": [
        "class Person:\n",
        "  def __init__(self, name, age):\n",
        "    \"\"\"Konstruktor untuk menginisialisasi objek Person dengan nama dan umur.\n",
        "       Atribut privat (dengan double underscore) menyimpan data internal\"\"\"\n",
        "    self.__name = name\n",
        "    self.__age = age\n",
        "\n",
        "  @property\n",
        "  def name(self):\n",
        "    \"\"\"Getter untuk atribut name.\n",
        "       Mengembalikan nilai dari __name\"\"\"\n",
        "    return self.__name\n",
        "\n",
        "  @name.setter\n",
        "  def name(self, value):\n",
        "    \"\"\"Setter untuk atribut name.\n",
        "       Memeriksa apakah nilai tidak kosong sebelum mengubah nilai\"\"\"\n",
        "    if not value:\n",
        "      print(\"Nama tidak boleh kosong.\")\n",
        "    else:\n",
        "      self.__name = value\n",
        "\n",
        "  @property\n",
        "  def age(self):\n",
        "    \"\"\"Getter untuk atribut age.\n",
        "       Mengembalikan nilai dari .__age.\"\"\"\n",
        "    return self.__age\n",
        "\n",
        "  @age.setter\n",
        "  def age(self, value):\n",
        "    \"\"\"Setter untuk atribut age.\n",
        "       Memeriksa apakah nilai umur tidak negatif sebelum mengubah nilai age.\"\"\"\n",
        "    if value < 0:\n",
        "      print(\"Umur tidak boleh negatif!\")\n",
        "    else:\n",
        "      self.__age = value\n",
        "\n",
        "\n",
        "# Contoh penggunaan\n",
        "def main():\n",
        "  # Membuat objek Person dengan nama \"Alice\" dan umur 30\n",
        "  person = Person(\"Alice\", 30)\n",
        "  print(f\"Nama: {person.name}, Umur: {person.age}\")\n",
        "\n",
        "  # Mengubah nama dan umur melalui setter\n",
        "  person.name = \"Bob\"\n",
        "  person.age = 35\n",
        "  print(f\"Nama baru: {person.name}, Umur baru: {person.age}\")\n",
        "\n",
        "  # Mencoba menetapkan nilai yang tidak valid untuk umur\n",
        "  person.age = -5 # Akan memunculkan pesan error karena validasi umur negatif\n",
        "\n",
        "if __name__ == \"__main__\":\n",
        "  main()"
      ],
      "metadata": {
        "colab": {
          "base_uri": "https://localhost:8080/"
        },
        "id": "_TIB9iTvxgtI",
        "outputId": "b46eaa26-9324-48af-acd5-1de83f2b37ac"
      },
      "execution_count": null,
      "outputs": [
        {
          "output_type": "stream",
          "name": "stdout",
          "text": [
            "Nama: Alice, Umur: 30\n",
            "Nama baru: Bob, Umur baru: 35\n",
            "Umur tidak boleh negatif!\n"
          ]
        }
      ]
    },
    {
      "cell_type": "markdown",
      "source": [
        "## **Penugasan**"
      ],
      "metadata": {
        "id": "lbqAZ3XTbk2b"
      }
    },
    {
      "cell_type": "code",
      "source": [
        "class Student:\n",
        "  def __init__(self, name, score):\n",
        "    self.__name = name\n",
        "    self.__score = None\n",
        "    self.__grade = None\n",
        "    self.score = score\n",
        "\n",
        "  @property\n",
        "  def name(self):\n",
        "    return self.__name\n",
        "\n",
        "  @name.setter\n",
        "  def name(self, value):\n",
        "    if not value:\n",
        "      print(\"Nama tidak boleh kosong\")\n",
        "    else:\n",
        "      self.__name = value\n",
        "\n",
        "  @property\n",
        "  def score(self):\n",
        "    return self.__score\n",
        "\n",
        "  @score.setter\n",
        "  def score(self, value):\n",
        "    if value < 0 or value > 100:\n",
        "      print(\"Nilai harus di antara 0 sampai 100\")\n",
        "    else:\n",
        "      self.__score = value\n",
        "      self.__grade = self.hitung_grade()\n",
        "\n",
        "  def hitung_grade(self):\n",
        "    if self.__score in range(90, 101):\n",
        "      return 'A'\n",
        "    elif self.__score in range(80, 90):\n",
        "      return 'B'\n",
        "    elif self.__score in range(70, 80):\n",
        "      return 'C'\n",
        "    elif self.__score in range(60, 70):\n",
        "      return 'D'\n",
        "    else:\n",
        "      return 'E'\n",
        "\n",
        "  def change_score(self, new_score):\n",
        "    self.score = new_score\n",
        "    if new_score in range(0, 101):\n",
        "      print(\"Nilai diubah...\")\n",
        "    else:\n",
        "      print(\"Nilai harus di antara 0 sampai 100\")\n",
        "\n",
        "  def show_info(self):\n",
        "    print(f\"Nama Mahasiswa: {self.__name}\\nNilai: {self.__score}\\nGrade: {self.__grade}\\n\")\n",
        "\n",
        "  def __del__(self):\n",
        "    print(f\"Data mahasiswa {self.__name} telah dihapus dari sistem\")\n",
        "\n",
        "# Penggunaan\n",
        "def main():\n",
        "  student1 = Student(\"Puchi\", 70)\n",
        "  student1.show_info()\n",
        "\n",
        "  student1.change_score(98)\n",
        "  student1.show_info()\n",
        "\n",
        "  del student1\n",
        "if __name__ == \"__main__\":\n",
        "  main()"
      ],
      "metadata": {
        "colab": {
          "base_uri": "https://localhost:8080/"
        },
        "id": "d-pet1rabjgV",
        "outputId": "a696de6e-84d8-4be2-9112-62b0b43cf596"
      },
      "execution_count": 5,
      "outputs": [
        {
          "output_type": "stream",
          "name": "stdout",
          "text": [
            "Nama Mahasiswa: Puchi\n",
            "Nilai: 70\n",
            "Grade: <bound method Student.hitung_grade of <__main__.Student object at 0x79f443603e50>>\n",
            "\n",
            "Nilai diubah...\n",
            "Nama Mahasiswa: Puchi\n",
            "Nilai: 98\n",
            "Grade: <bound method Student.hitung_grade of <__main__.Student object at 0x79f443603e50>>\n",
            "\n"
          ]
        }
      ]
    },
    {
      "cell_type": "code",
      "source": [],
      "metadata": {
        "id": "wpOAjmbd2NMb"
      },
      "execution_count": null,
      "outputs": []
    }
  ]
}