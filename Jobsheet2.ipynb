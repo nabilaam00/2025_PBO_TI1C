{
  "nbformat": 4,
  "nbformat_minor": 0,
  "metadata": {
    "colab": {
      "provenance": [],
      "authorship_tag": "ABX9TyMy/AeFCQGW49jCVB9vqfCj",
      "include_colab_link": true
    },
    "kernelspec": {
      "name": "python3",
      "display_name": "Python 3"
    },
    "language_info": {
      "name": "python"
    }
  },
  "cells": [
    {
      "cell_type": "markdown",
      "metadata": {
        "id": "view-in-github",
        "colab_type": "text"
      },
      "source": [
        "<a href=\"https://colab.research.google.com/github/nabilaam00/2025_PBO_TI1C/blob/main/Jobsheet2.ipynb\" target=\"_parent\"><img src=\"https://colab.research.google.com/assets/colab-badge.svg\" alt=\"Open In Colab\"/></a>"
      ]
    },
    {
      "cell_type": "markdown",
      "source": [
        "## Praktikum 1: Membuat dan Menggunakan Fungsi"
      ],
      "metadata": {
        "id": "iD3DK5vMEsID"
      }
    },
    {
      "cell_type": "code",
      "execution_count": null,
      "metadata": {
        "colab": {
          "base_uri": "https://localhost:8080/"
        },
        "id": "qSYA1drvDHvB",
        "outputId": "186ed70a-7848-4707-8e66-92e3b463266a"
      },
      "outputs": [
        {
          "output_type": "stream",
          "name": "stdout",
          "text": [
            "Ini adalah contoh fungsi built-in\n",
            "Panjang kata 'Pemrograman' adalah:: 11\n",
            "Nilai maksimum dalam daftar [10, 5, 30, 40, 25] adalah: 40\n",
            "\n",
            "Ini adalah contoh fungsi User-Defined\n",
            "Kuadrat dari 5 adalah: 25\n",
            "Luas persegi panjang: 50\n",
            "Nama: Budi, Umur: 22, IPK: 3.8\n",
            "Halo, Andi! Selamat datang di dunia Python.\n",
            "Keliling persegi dengan sisi 5 adalah: 20\n"
          ]
        }
      ],
      "source": [
        "# Fungsi Built-in\n",
        "# Fungsi print() adalah contoh fungsi built-in untuk mencetak output\n",
        "print(\"Ini adalah contoh fungsi built-in\")\n",
        "\n",
        "# Fungsi len() adalah contoh fungsi built-in untuk menghitung panjang suatu objek\n",
        "kata = \"Pemrograman\"\n",
        "panjang_kata = len(kata)\n",
        "print(f\"Panjang kata '{kata}' adalah:: {panjang_kata}\")\n",
        "\n",
        "# Fungsi max() adalah contoh fungsi built-in untuk mencari nilai maksimum dari sebuah daftar\n",
        "angka = [10,5,30,40,25]\n",
        "nilai_max = max(angka)\n",
        "print(f\"Nilai maksimum dalam daftar {angka} adalah: {nilai_max}\")\n",
        "print()\n",
        "\n",
        "# Fungsi User-Defined\n",
        "print(\"Ini adalah contoh fungsi User-Defined\")\n",
        "# Fungsi dengan satu parameter(Menerima satu nilai input)\n",
        "def cetak_kuadrat(angka):\n",
        "  # Menghitung kuadrat dari angka yang diterima sebagai parameter\n",
        "  print(f\"Kuadrat dari {angka} adalah: {angka ** 2}\")\n",
        "\n",
        "# Fungsi dengan beberapa parameter (Menerima lebih dari satu nilai input)\n",
        "def hitung_luas_persegi_panjang(panjang,lebar):\n",
        "  # Menghitung luas persegi panjang\n",
        "  return panjang * lebar\n",
        "\n",
        "# Fungsi dengan beberapa tipe parameter (Menerima berbagai jenis data)\n",
        "def info_mahasiswa(nama,umur,ipk):\n",
        "  # Mencetak informasi mahasiswa\n",
        "  print(f\"Nama: {nama}, Umur: {umur}, IPK: {ipk}\")\n",
        "\n",
        "# Fungsi tanpa return value (Non-return value)\n",
        "def sapa_pengguna(nama):\n",
        "  # Fungsi ini hanya mencetak sapaan tanpa mengembalikan nilai\n",
        "  print(f\"Halo, {nama}! Selamat datang di dunia Python.\")\n",
        "\n",
        "# Fungsi dengan return value\n",
        "def hitung_keliling_persegi(sisi):\n",
        "  # Mengembalikan keliling persegi\n",
        "  return 4 * sisi\n",
        "\n",
        "# Pemanggilan fungsi dengan satu parameter\n",
        "cetak_kuadrat(5)\n",
        "\n",
        "# Pemanggilan fungsi dengan beberapa parameter\n",
        "luas = hitung_luas_persegi_panjang(10, 5)\n",
        "print(f\"Luas persegi panjang: {luas}\")\n",
        "\n",
        "# Pemanggilan fungsi dengan beberapa tipe parameter\n",
        "info_mahasiswa(\"Budi\", 22, 3.8)\n",
        "\n",
        "# Pemanggilan fungsi tanpa return value\n",
        "sapa_pengguna(\"Andi\")\n",
        "\n",
        "# Pemanggilan fungsi dengan return value\n",
        "keliling = hitung_keliling_persegi(5)\n",
        "print(f\"Keliling persegi dengan sisi 5 adalah: {keliling}\")"
      ]
    },
    {
      "cell_type": "markdown",
      "source": [
        "## Praktikum 2: Modularisasi Kode dengan Fungsi"
      ],
      "metadata": {
        "id": "B27qB2lSQpk5"
      }
    },
    {
      "cell_type": "code",
      "source": [
        "# File utama main.py yang mengimpor modul geometri.py\n",
        "\n",
        "# Mengimpor modul geometri\n",
        "import geometri\n",
        "\n",
        "def main():\n",
        "  # Menggunakan fungsi dari modul geometri\n",
        "  luas_persegi = geometri.hitung_luas_persegi(5)\n",
        "  print(f\"Luas persegi panjang dengan sisi 5 adalah: {luas_persegi}\")\n",
        "\n",
        "  luas_persegi_panjang = geometri.hitung_luas_persegi_panjang(10, 5)\n",
        "  print(f\"Luas persegi panjang dengan panjang 10 dan lebar 5 adalah: {luas_persegi_panjang}\")\n",
        "\n",
        "  luas_lingkaran = geometri.hitung_luas_lingkaran(7)\n",
        "  print(f\"Luas lingkaran dengan jari-jari 7 adalah: {luas_lingkaran}\")\n",
        "\n",
        "if __name__ == \"__main__\":\n",
        "  main()"
      ],
      "metadata": {
        "colab": {
          "base_uri": "https://localhost:8080/"
        },
        "id": "mu0wDZvSMIlL",
        "outputId": "a9e6977f-f987-4564-e824-aa2e4465b0bc"
      },
      "execution_count": null,
      "outputs": [
        {
          "output_type": "stream",
          "name": "stdout",
          "text": [
            "Luas persegi panjang dengan sisi 5 adalah: 25\n",
            "Luas persegi panjang dengan panjang 10 dan lebar 5 adalah: 50\n",
            "Luas lingkaran dengan jari-jari 7 adalah: 153.86\n"
          ]
        }
      ]
    },
    {
      "cell_type": "markdown",
      "source": [
        "## Praktikum 3: Membuat Kelas Sederhana"
      ],
      "metadata": {
        "id": "gXqtSrYvUaRS"
      }
    },
    {
      "cell_type": "code",
      "source": [
        "# Kelas Buku untuk merepresentasikan buku di perpustakaan\n",
        "class Buku:\n",
        "  def __init__(self, judul, pengarang, tahun_terbit):\n",
        "    self.judul = judul\n",
        "    self.pengarang = pengarang\n",
        "    self.tahun_terbit = tahun_terbit\n",
        "    self.status = \"Tersedia\" # Status buku, default adalah Tersedia\n",
        "\n",
        "  def tampilkan_info(self):\n",
        "    print(f\"Judul: {self.judul}\")\n",
        "    print(f\"Pengarang: {self.pengarang}\")\n",
        "    print(f\"Tahun Terbit: {self.tahun_terbit}\")\n",
        "    print(f\"Status: {self.status}\")\n",
        "\n",
        "  def pinjam(self):\n",
        "    if self.status == \"Tersedia\":\n",
        "      self.status = \"Dipinjam\"\n",
        "      print(f\"Buku '{self.judul}' telah dipinjam.\")\n",
        "    else:\n",
        "      print(f\"Buku '{self.judul}' sedang dipinjam.\")\n",
        "\n",
        "  def kembalikan(self):\n",
        "    if self.status == \"Dipinjam\":\n",
        "      self.status = \"Tersedia\"\n",
        "      print(f\"Buku '{self.judul}' telah dikembalikan.\")\n",
        "    else:\n",
        "      print(f\"Buku '{self.judul}' tidak sedang dipinjam.\")\n",
        "\n",
        "# Membuat objek dari kelas Buku\n",
        "buku1 = Buku(\"Pemrograman Python\", \"John Doe\", 2021)\n",
        "buku2 = Buku(\"Data Science untuk Pemula\", \"Jane Smith\", 2020)\n",
        "\n",
        "# Menggunakan metode objek Buku\n",
        "buku1.tampilkan_info()\n",
        "buku2.pinjam()\n",
        "print()\n",
        "# Mengubah status buku dan menampilkan informasi\n",
        "buku2.kembalikan()\n",
        "print()\n",
        "buku1.pinjam()\n",
        "buku1.tampilkan_info()"
      ],
      "metadata": {
        "colab": {
          "base_uri": "https://localhost:8080/"
        },
        "id": "MQYfRuLHUrr1",
        "outputId": "a706dfaa-9684-4433-90d1-3eb6ab7a202c"
      },
      "execution_count": null,
      "outputs": [
        {
          "output_type": "stream",
          "name": "stdout",
          "text": [
            "Judul: Pemrograman Python\n",
            "Pengarang: John Doe\n",
            "Tahun Terbit: 2021\n",
            "Status: Tersedia\n",
            "Buku 'Data Science untuk Pemula' telah dipinjam.\n",
            "\n",
            "Buku 'Data Science untuk Pemula' telah dikembalikan.\n",
            "\n",
            "Buku 'Pemrograman Python' telah dipinjam.\n",
            "Judul: Pemrograman Python\n",
            "Pengarang: John Doe\n",
            "Tahun Terbit: 2021\n",
            "Status: Dipinjam\n"
          ]
        }
      ]
    },
    {
      "cell_type": "code",
      "source": [
        "# Kelas Mahasiswa untuk merepresentasikan Mahasiswa dalam kelas\n",
        "\n",
        "# Definisi kelas\n",
        "class Mahasiswa:\n",
        "  # Konstruktor (__init__) untuk mengisialisasi atribut objek\n",
        "  def __init__(self, nama, nim, umur):\n",
        "    self.nama = nama  # Atribut objek nama\n",
        "    self.nim = nim    # Atribut objek nim\n",
        "    self.umur = umur  # Atribut objek umur\n",
        "\n",
        "  # Metode untuk menampilkan informasi mahasiswa\n",
        "  def tampilkan_info(self):\n",
        "    print(f\"Nama: {self.nama}\")\n",
        "    print(f\"NIM: {self.nim}\")\n",
        "    print(f\"Umur: {self.umur} tahun\")\n",
        "\n",
        "  # Metode untuk merubah umur mahasiswa\n",
        "  def ubah_umur(self, umur_baru):\n",
        "    self.umur = umur_baru\n",
        "\n",
        "# Membuat objek (instance) dari kelas Mahasiswa\n",
        "mahasiswa1 = Mahasiswa(\"Andi\", \"12345\", 20)\n",
        "mahasiswa2 = Mahasiswa(\"Budi\", \"67890\", 22)\n",
        "\n",
        "# Menggunakan metode dari kelas Mahasiswa\n",
        "mahasiswa1.tampilkan_info()\n",
        "print()   # Mencetak barisan kosong\n",
        "mahasiswa2.tampilkan_info()\n",
        "\n",
        "# Mengubah umur mahasiswa1 menggunakan metode ubah_umur\n",
        "mahasiswa1.ubah_umur(21)\n",
        "\n",
        "# Menampilkan info mahasiswa setelah umur diubah\n",
        "print(\"\\nSetelah mengubah umur mahasiswa1:\")\n",
        "mahasiswa1.tampilkan_info()"
      ],
      "metadata": {
        "colab": {
          "base_uri": "https://localhost:8080/"
        },
        "id": "ZYi-keeVZPLb",
        "outputId": "451088b7-8edb-41e2-cf66-4eb3af240446"
      },
      "execution_count": null,
      "outputs": [
        {
          "output_type": "stream",
          "name": "stdout",
          "text": [
            "Nama: Andi\n",
            "NIM: 12345\n",
            "Umur: 20 tahun\n",
            "\n",
            "Nama: Budi\n",
            "NIM: 67890\n",
            "Umur: 22 tahun\n",
            "\n",
            "Setelah mengubah umur mahasiswa1:\n",
            "Nama: Andi\n",
            "NIM: 12345\n",
            "Umur: 21 tahun\n"
          ]
        }
      ]
    },
    {
      "cell_type": "markdown",
      "source": [
        "## Praktikum 4: Membuat dan Menggunakan Method dalam Kelas"
      ],
      "metadata": {
        "id": "9gcqxH4WcgzA"
      }
    },
    {
      "cell_type": "code",
      "source": [
        "# Kelas untuk menjelaskan atribut dan metode dalam kelas\n",
        "class Mobil:\n",
        "  def __init__(self, merk, warna, tahun, harga):\n",
        "    # Atribut yang dimiliki oleh objek Mobil\n",
        "    self.merk = merk\n",
        "    self.warna = warna\n",
        "    self.tahun = tahun\n",
        "    self.harga = harga\n",
        "\n",
        "  # Fungsi tanpa return value, hanya mencetak informasi\n",
        "  def tampilkan_info(self):\n",
        "    print(f\"Mobil {self.merk} berwarna {self.warna}, tahun {self.tahun}, harga: Rp {self.harga}\")\n",
        "\n",
        "  # Fungsi dengan satu parameter\n",
        "  def diskon(self, persen_diskon):\n",
        "    # Menghitung harga setelah diskon\n",
        "    diskon_harga = self.harga * (persen_diskon / 100)\n",
        "    harga_setelah_diskon = self.harga - diskon_harga\n",
        "    print(f\"Harga setelah diskon {persen_diskon}%: Rp {harga_setelah_diskon}\")\n",
        "    # Tidak mengembalikan nilai, hanya mencetak harga setelah diskon\n",
        "\n",
        "  # Fungsi dengan return value, menghitung usia mobil berdasarkan tahun\n",
        "  def hitung_usia(self, tahun_sekarang):\n",
        "    usia = tahun_sekarang - self.tahun\n",
        "    return usia\n",
        "\n",
        "  # Fungsi dengan beberapa parameter\n",
        "  def perbarui_harga(self, harga_baru, tahun_baru):\n",
        "    self.harga = harga_baru\n",
        "    self.tahun = tahun_baru\n",
        "    print(f\"Harga dan tahun mobil {self.merk} diperbarui menjadi Rp {self.harga} dan tahun {self.tahun}\")\n",
        "\n",
        "# Membuat objek mobil\n",
        "mobil1 = Mobil(\"Toyota\", \"Hitam\", 2015, 300000000)\n",
        "mobil2 = Mobil(\"Honda\", \"Merah\", 2018, 250000000)\n",
        "\n",
        "# Menggunakan metode tanpa return value\n",
        "mobil1.tampilkan_info()\n",
        "mobil2.tampilkan_info()\n",
        "print()\n",
        "\n",
        "# Menggunakan metode dengan satu parameter (diskon)\n",
        "mobil1.diskon(10)\n",
        "mobil2.diskon(15)\n",
        "print()\n",
        "\n",
        "# Menggunakan metode dengan return value (hitung usia mobil)\n",
        "usia_mobil1 = mobil1.hitung_usia(2025)\n",
        "usia_mobil2 = mobil2.hitung_usia(2025)\n",
        "\n",
        "print(f\"Usia mobil1 pada tahun 2025: {usia_mobil1} tahun\")\n",
        "print(f\"Usia mobil2 pada tahun 2025: {usia_mobil2} tahun\\n\")\n",
        "\n",
        "# Menggunakan metode dengan beberapa parameter (perbarui harga dan tahun)\n",
        "mobil1.perbarui_harga(280000000, 2022)\n",
        "mobil2.perbarui_harga(240000000, 2021)"
      ],
      "metadata": {
        "id": "4smrya7DcVvj",
        "colab": {
          "base_uri": "https://localhost:8080/"
        },
        "outputId": "eb45e218-00d3-45c9-d941-93c3338ba2fe"
      },
      "execution_count": null,
      "outputs": [
        {
          "output_type": "stream",
          "name": "stdout",
          "text": [
            "Mobil Toyota berwarna Hitam, tahun 2015, harga: Rp 300000000\n",
            "Mobil Honda berwarna Merah, tahun 2018, harga: Rp 250000000\n",
            "\n",
            "Harga setelah diskon 10%: Rp 270000000.0\n",
            "Harga setelah diskon 15%: Rp 212500000.0\n",
            "\n",
            "Usia mobil1 pada tahun 2025: 10 tahun\n",
            "Usia mobil2 pada tahun 2025: 7 tahun\n",
            "\n",
            "Harga dan tahun mobil Toyota diperbarui menjadi Rp 280000000 dan tahun 2022\n",
            "Harga dan tahun mobil Honda diperbarui menjadi Rp 240000000 dan tahun 2021\n"
          ]
        }
      ]
    },
    {
      "cell_type": "markdown",
      "source": [
        "## TUGAS: PROGRAM PENJUALAN HP"
      ],
      "metadata": {
        "id": "1uEZC0TzJa6d"
      }
    },
    {
      "cell_type": "code",
      "source": [
        "import hp\n",
        "\n",
        "def menu_penjualan():\n",
        "    # Menu interaktif untuk membeli HP berdasarkan nomor urut\n",
        "    while True:\n",
        "        print(\"\\n===== TOKO HP JAYA =====\")\n",
        "        hp.tampilkan_stok()\n",
        "\n",
        "        # Meminta input nomor HP dengan validasi\n",
        "        while True:\n",
        "            try:\n",
        "                nomor = int(input(\"\\nMasukkan nomor HP yang ingin dibeli (atau ketik 0 untuk keluar): \"))\n",
        "\n",
        "                if nomor == 0:\n",
        "                    print(\"Terima kasih telah berbelanja di TOKO HP JAYA!\")\n",
        "                    return  # Keluar dari fungsi\n",
        "                elif 1 <= nomor <= len(hp.daftar_hp):\n",
        "                    break  # Jika valid, lanjut ke input jumlah\n",
        "                else:\n",
        "                    print(\"Nomor HP tidak valid! Coba lagi.\")\n",
        "\n",
        "            except ValueError:\n",
        "                print(\"Masukkan angka yang valid!\")\n",
        "\n",
        "        # Meminta input jumlah pembelian dengan validasi\n",
        "        while True:\n",
        "            try:\n",
        "                jumlah = int(input(\"Masukkan jumlah yang ingin dibeli: \"))\n",
        "\n",
        "                if jumlah > 0:\n",
        "                    break  # Jika valid, lanjutkan ke pembelian\n",
        "                else:\n",
        "                    print(\"Jumlah harus lebih dari 0! Coba lagi.\")\n",
        "\n",
        "            except ValueError:\n",
        "                print(\"Masukkan angka yang valid!\")\n",
        "\n",
        "        # Proses pembelian\n",
        "        hp.daftar_hp[nomor - 1].beli(jumlah)\n",
        "\n",
        "        # Tanya pengguna apakah ingin membeli lagi\n",
        "        while True:\n",
        "            lagi = input(\"\\nApakah Anda ingin membeli lagi? (y/n): \").strip().lower()\n",
        "            if lagi == \"y\":\n",
        "                break  # Kembali ke awal loop dan tampilkan daftar HP\n",
        "            elif lagi == \"n\":\n",
        "                print(\"Terima kasih telah berbelanja di TOKO HP JAYA!\")\n",
        "                return  # Keluar dari fungsi dan akhiri program\n",
        "            else:\n",
        "                print(\"Input tidak valid! Ketik 'y' untuk lanjut atau 'n' untuk keluar.\")\n",
        "\n",
        "if __name__ == \"__main__\":\n",
        "  menu_penjualan()"
      ],
      "metadata": {
        "id": "VhW6e0IN0Tg1",
        "colab": {
          "base_uri": "https://localhost:8080/"
        },
        "outputId": "ba8b56bd-777d-46f1-b465-8c2c5a4869dc"
      },
      "execution_count": 17,
      "outputs": [
        {
          "output_type": "stream",
          "name": "stdout",
          "text": [
            "\n",
            "===== TOKO HP JAYA =====\n",
            "\n",
            "=== Daftar HP Tersedia ===\n",
            "1. Samsung Galaxy S25 (256 GB, Merah) - Rp 25000000 (3 tersedia)\n",
            "2. Xiaomi X50 (64 GB, Pink) - Rp 3500000 (10 tersedia)\n",
            "3. Poco P15 (128 GB, Hijau) - Rp 6500000 (13 tersedia)\n",
            "4. iPhone 14 Pro Max (128 GB, Hitam) - Rp 27000000 (5 tersedia)\n",
            "5. Advan A20 (64 GB, Putih) - Rp 2400000 (15 tersedia)\n",
            "\n",
            "Masukkan nomor HP yang ingin dibeli (atau ketik 0 untuk keluar): 1\n",
            "Masukkan jumlah yang ingin dibeli: 2\n",
            "Pembelian berhasil! Anda telah membeli Samsung Galaxy S25 seharga 50000000\n",
            "\n",
            "Apakah Anda ingin membeli lagi? (y/n): y\n",
            "\n",
            "===== TOKO HP JAYA =====\n",
            "\n",
            "=== Daftar HP Tersedia ===\n",
            "1. Samsung Galaxy S25 (256 GB, Merah) - Rp 25000000 (1 tersedia)\n",
            "2. Xiaomi X50 (64 GB, Pink) - Rp 3500000 (10 tersedia)\n",
            "3. Poco P15 (128 GB, Hijau) - Rp 6500000 (13 tersedia)\n",
            "4. iPhone 14 Pro Max (128 GB, Hitam) - Rp 27000000 (5 tersedia)\n",
            "5. Advan A20 (64 GB, Putih) - Rp 2400000 (15 tersedia)\n",
            "\n",
            "Masukkan nomor HP yang ingin dibeli (atau ketik 0 untuk keluar): 6\n",
            "Nomor HP tidak valid! Coba lagi.\n",
            "\n",
            "Masukkan nomor HP yang ingin dibeli (atau ketik 0 untuk keluar): 2\n",
            "Masukkan jumlah yang ingin dibeli: 11\n",
            "Stok tidak cukup! Hanya tersisa 10 unit. Pembelian akan dilakukan sesuai jumlah stok\n",
            "Anda telah membeli Xiaomi X50 seharga 35000000\n",
            "\n",
            "Apakah Anda ingin membeli lagi? (y/n): n\n",
            "Terima kasih telah berbelanja di TOKO HP JAYA!\n"
          ]
        }
      ]
    }
  ]
}