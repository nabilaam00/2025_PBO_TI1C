{
  "nbformat": 4,
  "nbformat_minor": 0,
  "metadata": {
    "colab": {
      "provenance": [],
      "authorship_tag": "ABX9TyNNaNX3LLgbgLPKBPt3WSbK",
      "include_colab_link": true
    },
    "kernelspec": {
      "name": "python3",
      "display_name": "Python 3"
    },
    "language_info": {
      "name": "python"
    }
  },
  "cells": [
    {
      "cell_type": "markdown",
      "metadata": {
        "id": "view-in-github",
        "colab_type": "text"
      },
      "source": [
        "<a href=\"https://colab.research.google.com/github/nabilaam00/PBO_NabilaMunir/blob/main/cek_bilangan.ipynb\" target=\"_parent\"><img src=\"https://colab.research.google.com/assets/colab-badge.svg\" alt=\"Open In Colab\"/></a>"
      ]
    },
    {
      "cell_type": "code",
      "execution_count": 14,
      "metadata": {
        "id": "gZGhogVKzsxB",
        "colab": {
          "base_uri": "https://localhost:8080/"
        },
        "outputId": "594d97fd-2cc6-4a30-d091-622ce991c80e"
      },
      "outputs": [
        {
          "output_type": "stream",
          "name": "stdout",
          "text": [
            "========= PROGRAM MENEMUKAN TIPE BILANGAN =========\n",
            "\n",
            "Masukkan bilangan yang Anda inginkan: 19\n",
            "Bilangan 19 adalah bilangan ganjil dan merupakan bilangan prima\n",
            "\n",
            "Terimakasih telah menggunakan layanan kami\n"
          ]
        }
      ],
      "source": [
        "print(\"========= PROGRAM MENEMUKAN TIPE BILANGAN =========\")\n",
        "print()\n",
        "while True:\n",
        "  try:\n",
        "    angka = int(input(\"Masukkan bilangan yang Anda inginkan: \"))\n",
        "    break\n",
        "  except ValueError:\n",
        "    print(\"Input tidak valid, silahkan masukkan bilangan bulat\")\n",
        "\n",
        "# Memeriksa bilangan apakah prima\n",
        "def bilangan_prima(angka):\n",
        "  if angka < 2:\n",
        "    return False\n",
        "  for i in range(2, int(angka ** 0.5) + 1):\n",
        "    if angka % i == 0:\n",
        "      return False\n",
        "  return True\n",
        "\n",
        "# Memeriksa bilangan apakah ganjil atau genap\n",
        "if bilangan_prima(angka):\n",
        "  if angka % 2 == 0:\n",
        "    print(\"Bilangan\", angka, \"adalah bilangan genap dan merupakan bilangan prima\")\n",
        "  else:\n",
        "    print(\"Bilangan\", angka, \"adalah bilangan ganjil dan merupakan bilangan prima\")\n",
        "else:\n",
        "  if angka % 2 == 0:\n",
        "    print(\"Bilangan\", angka, \"adalah bilangan genap dan bukan bilangan prima\")\n",
        "  else:\n",
        "    print(\"Bilangan\", angka, \"adalah bilangan ganjil dan bukan bilangan prima\")\n",
        "\n",
        "print(\"\\nTerimakasih telah menggunakan layanan kami\")\n",
        ""
      ]
    },
    {
      "cell_type": "code",
      "source": [
        ""
      ],
      "metadata": {
        "id": "jeBdWqz40m8S"
      },
      "execution_count": null,
      "outputs": []
    }
  ]
}