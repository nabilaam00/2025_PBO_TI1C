{
  "nbformat": 4,
  "nbformat_minor": 0,
  "metadata": {
    "colab": {
      "provenance": [],
      "authorship_tag": "ABX9TyO5fshpbUioN9z8LnMKQ/aK",
      "include_colab_link": true
    },
    "kernelspec": {
      "name": "python3",
      "display_name": "Python 3"
    },
    "language_info": {
      "name": "python"
    }
  },
  "cells": [
    {
      "cell_type": "markdown",
      "metadata": {
        "id": "view-in-github",
        "colab_type": "text"
      },
      "source": [
        "<a href=\"https://colab.research.google.com/github/nabilaam00/2025_PBO_TI1C/blob/main/Jobsheet4.ipynb\" target=\"_parent\"><img src=\"https://colab.research.google.com/assets/colab-badge.svg\" alt=\"Open In Colab\"/></a>"
      ]
    },
    {
      "cell_type": "markdown",
      "source": [
        "## **Praktikum 01: Inheritance Dasar**"
      ],
      "metadata": {
        "id": "4TrcEZEMfkoa"
      }
    },
    {
      "cell_type": "code",
      "execution_count": null,
      "metadata": {
        "colab": {
          "base_uri": "https://localhost:8080/"
        },
        "id": "nkMmZWbfYV6C",
        "outputId": "2edadbe1-708d-4541-b94f-a5665727e1af"
      },
      "outputs": [
        {
          "output_type": "stream",
          "name": "stdout",
          "text": [
            "Ini adalah mobil Tesla Model S berwarna Merah\n",
            "Mesin kendaraan Tesla Model S dinyalakan.\n",
            "Merk mobil: Tesla Model S\n"
          ]
        }
      ],
      "source": [
        "# Kelas Induk\n",
        "class Kendaraan:\n",
        "  def __init__(self, merk):\n",
        "    self.merk = merk\n",
        "  def mulai_mesin(self):\n",
        "    print(f\"Mesin kendaraan {self.merk} dinyalakan.\")\n",
        "\n",
        "# Kelas Anak (mewarisi dari Kendaraan)\n",
        "class Mobil(Kendaraan):\n",
        "  def __init__(self, merk, warna):\n",
        "    # Memanggil __init kelas induk (akan dibahas di Praktikum 2)\n",
        "    # Untuk sekarang, kita set merk secara manual\n",
        "    self.merk = merk # Mewarisi 'merk'tapi di-set ulang di sini\n",
        "    self.warna = warna # Atribut khusus Mobil\n",
        "\n",
        "  def info_mobil(self):\n",
        "    print(f\"Ini adalah mobil {self.merk} berwarna {self.warna}\")\n",
        "\n",
        "# --- Kode Utama ---\n",
        "if __name__ == \"__main__\":\n",
        "  mobil_tesla = Mobil(\"Tesla Model S\", \"Merah\")\n",
        "\n",
        "  # Memanggil metode dari kelas anak\n",
        "  mobil_tesla.info_mobil()\n",
        "\n",
        "  # Memanggil metode yang diwarisi dari kelas induk\n",
        "  mobil_tesla.mulai_mesin()\n",
        "\n",
        "  # Mengakses atribut yang diwarisi dan di-set di anak\n",
        "  print(f\"Merk mobil: {mobil_tesla.merk}\")"
      ]
    },
    {
      "cell_type": "markdown",
      "source": [
        "## **Praktikum 02: Menggunakan super() dalam konstruktor**"
      ],
      "metadata": {
        "id": "F7Swc61thlHS"
      }
    },
    {
      "cell_type": "code",
      "source": [
        "# Kelas Induk\n",
        "class Person:\n",
        "  def __init__(self,nama, usia):\n",
        "    print(f\"(Memanggil __init__ Person untuk '{nama}')\")\n",
        "    self.nama = nama\n",
        "    self.usia = usia\n",
        "\n",
        "  def perkenalkan_diri(self):\n",
        "    print(f\"Halo, nama saya {self.nama}, usia saya {self.usia} tahun.\")\n",
        "\n",
        "# Kelas Anak (mewarisi dari Person)\n",
        "class Student(Person):\n",
        "  def __init__(self, nama, usia, student_id, jurusan):\n",
        "    print(f\"(Memanggil __init__ Student untuk '{nama}')\")\n",
        "    # Memanggil __init__ dari kelas Person untuk inisialisasi nama dan usia\n",
        "    super().__init__(nama, usia)\n",
        "    # Menambahkan atribut khusus Student\n",
        "    self.student_id = student_id\n",
        "    self.jurusan = jurusan\n",
        "    print(f\"(Inisialisasi atribut Student selesai untuk '{nama}')\")\n",
        "\n",
        "  def info_akademik(self):\n",
        "    print(f\"ID Mahasiswa: {self.student_id}\")\n",
        "    print(f\"Jurusan: {self.jurusan}\")\n",
        "\n",
        "  # Override perkenalkan diri untuk menambahkan info student (id dan jurusan)\n",
        "  def perkenalkan_diri(self):\n",
        "    super().perkenalkan_diri() # Panggil versi Person\n",
        "    print(f\"Saya adalah mahasiswa dengan ID {self.student_id}, jurusan {self.jurusan}\")\n",
        "\n",
        "# --- Kode Utama ---\n",
        "if __name__ == \"__main__\":\n",
        "  # Membuat objek Person\n",
        "  dosen = Person(\"Pak Anton\", 45)\n",
        "  print(\"-\" * 20)\n",
        "  dosen.perkenalkan_diri()\n",
        "  print(\"\\n\" + \"=\" * 30 + \"\\n\")\n",
        "\n",
        "  # Membuat objek Student\n",
        "  mahasiswa = Student(\"Dewi\", 20, \"MHS001\", \"Teknik Komputer\")\n",
        "  print(\"-\" * 20)\n",
        "  mahasiswa.perkenalkan_diri() # Panggil versi override di Student\n",
        "  print(\"-\" * 20)\n",
        "  mahasiswa.info_akademik() # Panggil metode khusus Student\n",
        "\n",
        "  # Cek atribut yang diwarisi\n",
        "  print(f\"\\nUsia mahasiswa {mahasiswa.nama}: {mahasiswa.usia}\")\n",
        "  # Usia diwarisi dari Person"
      ],
      "metadata": {
        "colab": {
          "base_uri": "https://localhost:8080/"
        },
        "id": "yw_Ne4CRhXjk",
        "outputId": "f73a87e5-3bb5-498c-a66d-9f25ffdcccc0"
      },
      "execution_count": null,
      "outputs": [
        {
          "output_type": "stream",
          "name": "stdout",
          "text": [
            "(Memanggil __init__ Person untuk 'Pak Anton')\n",
            "--------------------\n",
            "Halo, nama saya Pak Anton, usia saya 45 tahun.\n",
            "\n",
            "==============================\n",
            "\n",
            "(Memanggil __init__ Student untuk 'Dewi')\n",
            "(Memanggil __init__ Person untuk 'Dewi')\n",
            "(Inisialisasi atribut Student selesai untuk 'Dewi')\n",
            "--------------------\n",
            "Halo, nama saya Dewi, usia saya 20 tahun.\n",
            "Saya adalah mahasiswa dengan ID MHS001, jurusan Teknik Komputer\n",
            "--------------------\n",
            "ID Mahasiswa: MHS001\n",
            "Jurusan: Teknik Komputer\n",
            "\n",
            "Usia mahasiswa Dewi: 20\n"
          ]
        }
      ]
    },
    {
      "cell_type": "markdown",
      "source": [
        "## **Praktikum 03: Method Overriding dan super()**"
      ],
      "metadata": {
        "id": "sGa8nteSn5N_"
      }
    },
    {
      "cell_type": "code",
      "source": [
        "# Kelas Induk\n",
        "class Hewan:\n",
        "  def __init__(self, nama):\n",
        "    self.nama = nama\n",
        "\n",
        "  def bersuara(self):\n",
        "    print(f\"{self.nama} mengeluarkan suara generik\")\n",
        "\n",
        "  def tampilkan_info(self):\n",
        "    print(f\"Ini adalah hewan bernama {self.nama}\")\n",
        "\n",
        "# Kelas Anak\n",
        "class Kucing(Hewan):\n",
        "  def __init__(self, nama, ras):\n",
        "    super().__init__(nama) # Panggil init induk\n",
        "    self.ras = ras\n",
        "\n",
        "  # Method Overriding untuk bersuara\n",
        "  def bersuara(self):\n",
        "    print(f\"{self.nama} (Kucing) mengeong: Meow!\")\n",
        "\n",
        "  # Method Overriding untuk tampilkan_info, memanggil versi induk\n",
        "  def tampilkan_info(self):\n",
        "    super().tampilkan_info() # Panggil implementasi dari Hewan\n",
        "    print(f\"Ini adalah kucing ras {self.ras}\") # Tambahkan info spesifik\n",
        "\n",
        "# --- Kode Utama ---\n",
        "if __name__ == \"__main__\":\n",
        "  hewan_umum = Hewan(\"Makhluk\")\n",
        "  kucing_persia = Kucing(\"Puspus\", \"Persia\")\n",
        "\n",
        "  print(\"Info Hewan Umum:\")\n",
        "  hewan_umum.tampilkan_info()\n",
        "  hewan_umum.bersuara()\n",
        "  print(\"-\" * 20)\n",
        "\n",
        "  print(\"Info Kucing Persia:\")\n",
        "  kucing_persia.tampilkan_info() # Akan memanggil versi Kucing\n",
        "  kucing_persia.bersuara() # Akan memanggil versi Kucing"
      ],
      "metadata": {
        "colab": {
          "base_uri": "https://localhost:8080/"
        },
        "id": "c-EaGWlYkrfz",
        "outputId": "a187eeae-656e-42ad-db30-f93e1b8939e9"
      },
      "execution_count": null,
      "outputs": [
        {
          "output_type": "stream",
          "name": "stdout",
          "text": [
            "Info Hewan Umum:\n",
            "Ini adalah hewan bernama Makhluk\n",
            "Makhluk mengeluarkan suara generik\n",
            "--------------------\n",
            "Info Kucing Persia:\n",
            "Ini adalah hewan bernama Puspus\n",
            "Ini adalah kucing ras Persia\n",
            "Puspus (Kucing) mengeong: Meow!\n"
          ]
        }
      ]
    },
    {
      "cell_type": "markdown",
      "source": [
        "## **Praktikum 04: Multi-level Inheritance (Pewarisan Bertingkat)**"
      ],
      "metadata": {
        "id": "5-b7LCQhtNaB"
      }
    },
    {
      "cell_type": "code",
      "source": [
        "# Kelas Induk level 1\n",
        "class Organisme:\n",
        "  def __init__(self, nama):\n",
        "    self.nama = nama\n",
        "    print(f\"Organisme '{self.nama}' diciptakan\")\n",
        "\n",
        "  def bernapas(self):\n",
        "    print(f\"{self.nama} sedang bernapas\")\n",
        "\n",
        "# Kelas Anak level 1 (mewarisi dari Organisme)\n",
        "class Hewan(Organisme):\n",
        "  def __init__(self, nama, jenis_makanan):\n",
        "    super().__init__(nama) # Panggil init Organisme\n",
        "    self.jenis_makanan = jenis_makanan\n",
        "    print(f\"Hewan '{self.nama}' adalah {self.jenis_makanan}\")\n",
        "\n",
        "  def bergerak(self):\n",
        "    print(f\"{self.nama} sedang bergerak\")\n",
        "\n",
        "# Kelas Anak level 2(mewarisi dari Hewan)\n",
        "class Mamalia(Hewan):\n",
        "  def __init__(self, nama, jenis_makanan, jumlah_kaki):\n",
        "    super().__init__(nama, jenis_makanan) # Panggil init Hewan\n",
        "    self.jumlah_kaki = jumlah_kaki\n",
        "    print(f\"Mamalia '{self.nama}' memiliki {self.jumlah_kaki} kaki\")\n",
        "\n",
        "  def menyusui(self):\n",
        "    print(f\"{self.nama} sedang menyusui\")\n",
        "\n",
        "# --- Kode Utama ---\n",
        "if __name__ == \"__main__\":\n",
        "  kucing = Mamalia(\"Kucing Persia\", \"Karnivora\", 4)\n",
        "  print(\"-\" * 20)\n",
        "\n",
        "  # Memanggil metode dari kelas Mamalia\n",
        "  kucing.menyusui()\n",
        "\n",
        "  # Memanggil metode yang diwarisi dari kelas Hewan\n",
        "  kucing.bergerak()\n",
        "  print(f\"Jenis makanan: {kucing.jenis_makanan}\")\n",
        "\n",
        "  # Memanggil metode yang diwarisi dari kelas Organisme\n",
        "  kucing.bernapas()\n",
        "  print(f\"Nama organisme: {kucing.nama}\")\n"
      ],
      "metadata": {
        "colab": {
          "base_uri": "https://localhost:8080/"
        },
        "id": "Heo6gLYgqlsD",
        "outputId": "24034136-0cd1-4734-cdda-19a1ef0eef71"
      },
      "execution_count": null,
      "outputs": [
        {
          "output_type": "stream",
          "name": "stdout",
          "text": [
            "Organisme 'Kucing Persia' diciptakan\n",
            "Hewan 'Kucing Persia' adalah Karnivora\n",
            "Mamalia 'Kucing Persia' memiliki 4 kaki\n",
            "--------------------\n",
            "Kucing Persia sedang menyusui\n",
            "Kucing Persia sedang bergerak\n",
            "Jenis makanan: Karnivora\n",
            "Kucing Persia sedang bernapas\n",
            "Nama organisme: Kucing Persia\n"
          ]
        }
      ]
    },
    {
      "cell_type": "markdown",
      "source": [
        "## **Praktikum 05: Hierarchical Inheritance**"
      ],
      "metadata": {
        "id": "zhwgmQloyyoT"
      }
    },
    {
      "cell_type": "code",
      "source": [
        "!apt-get install -y locales\n",
        "!locale-gen id_ID.UTF-8\n",
        "!update-locale"
      ],
      "metadata": {
        "colab": {
          "base_uri": "https://localhost:8080/"
        },
        "id": "jecNNnQrfV8O",
        "outputId": "1c722fbd-dbfd-4179-9638-31bc540241b1"
      },
      "execution_count": null,
      "outputs": [
        {
          "output_type": "stream",
          "name": "stdout",
          "text": [
            "Reading package lists... Done\n",
            "Building dependency tree... Done\n",
            "Reading state information... Done\n",
            "locales is already the newest version (2.35-0ubuntu3.9).\n",
            "0 upgraded, 0 newly installed, 0 to remove and 34 not upgraded.\n",
            "Generating locales (this might take a while)...\n",
            "  id_ID.UTF-8... done\n",
            "Generation complete.\n"
          ]
        }
      ]
    },
    {
      "cell_type": "code",
      "source": [
        "import locale\n",
        "\n",
        "# set locale ke Indonesia untuk format mata uang\n",
        "try:\n",
        "  locale.setlocale(locale.LC_ALL, 'id_ID.UTF-8')\n",
        "except locale.Error:\n",
        "    print(\"Locale 'id_ID.UTF-8' tidak tersedia, menggunakan locale default.\")\n",
        "\n",
        "# Fungsi helper untuk format mata uang\n",
        "def format_rupiah(angka):\n",
        "  return locale.currency(angka, grouping=True, symbol='Rp')\n",
        "\n",
        "# Kelas Induk\n",
        "class Pegawai:\n",
        "  def __init__(self, nama, id_pegawai, gaji_pokok):\n",
        "    self.nama = nama\n",
        "    self.id_pegawai = id_pegawai\n",
        "    self.gaji_pokok = gaji_pokok\n",
        "\n",
        "  def hitung_gaji(self):\n",
        "    # Gaji dasar, bisa di-override\n",
        "    return self.gaji_pokok\n",
        "\n",
        "  def tampilkan_info(self):\n",
        "    print(f\"ID: {self.id_pegawai}, Nama: {self.nama}\")\n",
        "    print(f\"Gaji Pokok: {format_rupiah(self.gaji_pokok)}\")\n",
        "\n",
        "# Kelas Anak 1\n",
        "class Manager(Pegawai):\n",
        "  def __init__(self, nama, id_pegawai, gaji_pokok, tunjangan_jabatan):\n",
        "    super().__init__(nama, id_pegawai, gaji_pokok)\n",
        "    self.tunjangan_jabatan = tunjangan_jabatan\n",
        "\n",
        "  # Override hitung_gaji\n",
        "  def hitung_gaji(self):\n",
        "    gaji_total = super().hitung_gaji() + self.tunjangan_jabatan\n",
        "    return gaji_total\n",
        "\n",
        "  # Override tampilkan_info (memanggil versi induk)\n",
        "  def tampilkan_info(self):\n",
        "    print(\"--- Info Manager ---\")\n",
        "    super().tampilkan_info() # Panggil info dasar dari Pegawai\n",
        "    print(f\"Tunjangan Jabatan: {format_rupiah(self.tunjangan_jabatan)}\")\n",
        "    print(f\"Total Gaji: {format_rupiah(self.hitung_gaji())}\")\n",
        "\n",
        "# Kelas Anak 2\n",
        "class StafTeknis(Pegawai):\n",
        "  def __init__(self, nama, id_pegawai, gaji_pokok, keahlian, bonus_keahlian):\n",
        "    super().__init__(nama, id_pegawai, gaji_pokok)\n",
        "    self.keahlian = keahlian\n",
        "    self.bonus_keahlian = bonus_keahlian\n",
        "\n",
        "  # Override hitung_gaji\n",
        "  def hitung_gaji(self):\n",
        "    gaji_total = super().hitung_gaji() + self.bonus_keahlian\n",
        "    return gaji_total\n",
        "\n",
        "  # Override tampilkan_info (memanggil versi induk)\n",
        "  def tampilkan_info(self):\n",
        "    print(\"--- Info Staf Teknis ---\")\n",
        "    super().tampilkan_info() # Panggil info dasar dari Pegawai\n",
        "    print(f\"Keahlian: {self.keahlian}\")\n",
        "    print(f\"Bonus Keahlian: {format_rupiah(self.bonus_keahlian)}\")\n",
        "    print(f\"Total Gaji: {format_rupiah(self.hitung_gaji())}\")\n",
        "\n",
        "# --- Kode Utama ---\n",
        "if __name__ == \"__main__\":\n",
        "  manager1 = Manager(\"Budi Santoso\", \"M001\", 10000000, 5000000)\n",
        "  staf1 = StafTeknis(\"Citra Lestari\", \"S001\", 7000000, \"Python Programming\", 1500000)\n",
        "  pegawai_baru = Pegawai(\"Rian\", \"P005\", 5000000) # Pegawai biasa\n",
        "\n",
        "  print(\"Menampilkan Informasi Pegawai:\")\n",
        "  manager1.tampilkan_info()\n",
        "  print(\"-\" * 30)\n",
        "  staf1.tampilkan_info()\n",
        "  print(\"-\" * 30)\n",
        "\n",
        "  print(\"--- Info Pegawai Baru ---\")\n",
        "  pegawai_baru.tampilkan_info()\n",
        "  print(f\"Total Gaji: {format_rupiah(pegawai_baru.hitung_gaji())}\")\n",
        "  # memanggil versi Pegawai\n",
        "  print(\"-\" * 30)"
      ],
      "metadata": {
        "id": "7bq58bYzKjjg",
        "colab": {
          "base_uri": "https://localhost:8080/"
        },
        "outputId": "3efa3523-b0b6-46ce-dda5-54107efe4be1"
      },
      "execution_count": null,
      "outputs": [
        {
          "output_type": "stream",
          "name": "stdout",
          "text": [
            "Menampilkan Informasi Pegawai:\n",
            "--- Info Manager ---\n",
            "ID: M001, Nama: Budi Santoso\n",
            "Gaji Pokok: Rp10.000.000,00\n",
            "Tunjangan Jabatan: Rp5.000.000,00\n",
            "Total Gaji: Rp15.000.000,00\n",
            "------------------------------\n",
            "--- Info Staf Teknis ---\n",
            "ID: S001, Nama: Citra Lestari\n",
            "Gaji Pokok: Rp7.000.000,00\n",
            "Keahlian: Python Programming\n",
            "Bonus Keahlian: Rp1.500.000,00\n",
            "Total Gaji: Rp8.500.000,00\n",
            "------------------------------\n",
            "--- Info Pegawai Baru ---\n",
            "ID: P005, Nama: Rian\n",
            "Gaji Pokok: Rp5.000.000,00\n",
            "Total Gaji: Rp5.000.000,00\n",
            "------------------------------\n"
          ]
        }
      ]
    },
    {
      "cell_type": "markdown",
      "source": [
        "## **Praktikum 06: Memeriksa Tipe Instance dengan isinstance()**"
      ],
      "metadata": {
        "id": "yZgiYGcZKxG6"
      }
    },
    {
      "cell_type": "code",
      "source": [
        "class BentukGeometri:\n",
        "  def __init__(self, nama_bentuk):\n",
        "    self.nama = nama_bentuk\n",
        "  def tampilkan_nama(self):\n",
        "    print(f\"Ini adalah bentuk: {self.nama}\")\n",
        "  def hitung_luas(self):\n",
        "    print(f\"Luas {self.nama} tidak dapat dihitung (generik)\")\n",
        "\n",
        "class PersegiPanjang(BentukGeometri):\n",
        "  def __init__(self, panjang, lebar):\n",
        "    super().__init__(\"Persegi Panjang\")\n",
        "    self.panjang = panjang\n",
        "    self.lebar = lebar\n",
        "  def hitung_luasa(self):\n",
        "    luas = self.panjang * self.lebar\n",
        "    print(f\"Luas {self.nama}: {luas}\")\n",
        "\n",
        "class Segitiga(BentukGeometri):\n",
        "  def __init__(self, alas, tinggi):\n",
        "    super().__init__(\"Segitiga\")\n",
        "    self.alas = alas\n",
        "    self.tinggi = tinggi\n",
        "  def hitung_luas(self):\n",
        "    luas = 0.5 * self.alas * self. tinggi\n",
        "    print(f\"Luas {self.nama}: {luas}\")\n",
        "\n",
        "def proses_bentuk(bentuk):\n",
        "  print(f\"\\nMemproses objek: {type(bentuk)}\")\n",
        "\n",
        "  if isinstance(bentuk, BentukGeometri):\n",
        "    bentuk.tampilkan_nama()\n",
        "    print(\"Objek ini adalah instance dari BentukGeometri (atau turunannya)\")\n",
        "    if isinstance(bentuk, PersegiPanjang):\n",
        "      print(\"-> Objek ini juga instance dari PersegiPanjang\")\n",
        "    elif isinstance(bentuk, Segitiga):\n",
        "      print(\"-> Objek ini juga instance dari Segitiga\")\n",
        "  else:\n",
        "    print(\"Objek ini BUKAN instance dari BentukGeometri\")\n",
        "\n",
        "  if isinstance(bentuk, str):\n",
        "    print(\"Objek ini adalah string\")\n",
        "\n",
        "# --- Kode Utama ---\n",
        "if __name__ == \"__main__\":\n",
        "  pp = PersegiPanjang(4, 3)\n",
        "  seg = Segitiga(5, 2)\n",
        "  bg = BentukGeometri(\"Lingkaran\") # Contoh lain\n",
        "  teks = \"Ini string\"\n",
        "\n",
        "  daftar_objek = [pp, seg, bg, teks]\n",
        "\n",
        "  for obj in daftar_objek:\n",
        "    proses_bentuk(obj)"
      ],
      "metadata": {
        "colab": {
          "base_uri": "https://localhost:8080/"
        },
        "id": "ZD7hl7CxLNDj",
        "outputId": "3ef88188-ea01-4a59-c0df-5662c1aca6b2"
      },
      "execution_count": null,
      "outputs": [
        {
          "output_type": "stream",
          "name": "stdout",
          "text": [
            "\n",
            "Memproses objek: <class '__main__.PersegiPanjang'>\n",
            "Ini adalah bentuk: Persegi Panjang\n",
            "Objek ini adalah instance dari BentukGeometri (atau turunannya)\n",
            "-> Objek ini juga instance dari PersegiPanjang\n",
            "\n",
            "Memproses objek: <class '__main__.Segitiga'>\n",
            "Ini adalah bentuk: Segitiga\n",
            "Objek ini adalah instance dari BentukGeometri (atau turunannya)\n",
            "-> Objek ini juga instance dari Segitiga\n",
            "\n",
            "Memproses objek: <class '__main__.BentukGeometri'>\n",
            "Ini adalah bentuk: Lingkaran\n",
            "Objek ini adalah instance dari BentukGeometri (atau turunannya)\n",
            "\n",
            "Memproses objek: <class 'str'>\n",
            "Objek ini BUKAN instance dari BentukGeometri\n",
            "Objek ini adalah string\n"
          ]
        }
      ]
    },
    {
      "cell_type": "markdown",
      "source": [
        "## **TUGAS**"
      ],
      "metadata": {
        "id": "_PBcWUNCgWMU"
      }
    },
    {
      "cell_type": "code",
      "source": [
        "class Mahasiswa:\n",
        "  def __init__(self, nama, nim, ipk):\n",
        "    self.nama = nama\n",
        "    self.nim = nim\n",
        "    self.ipk = ipk\n",
        "\n",
        "  def tampilkan_info(self):\n",
        "    print(f\"Nama: {self.nama}\")\n",
        "    print(f\"NIM: {self.nim}\")\n",
        "    print(f\"IPK: {self.ipk}\")\n",
        "\n",
        "  def hitung_predikat(self):\n",
        "    if self.ipk >= 3.5:\n",
        "      return \"Dengan Pujian\"\n",
        "    elif self.ipk >= 3.0:\n",
        "      return \"Sangat Memuaskan\"\n",
        "    elif self.ipk >= 2.5:\n",
        "      return \"Memuaskan\"\n",
        "    else:\n",
        "      return \"Cukup\"\n",
        "\n",
        "class MahasiswaSarjana(Mahasiswa):\n",
        "  def __init__(self, nama, nim, ipk, semester, sks_lulus):\n",
        "    super().__init__(nama, nim, ipk)\n",
        "    self.semester = semester\n",
        "    self.sks_lulus = sks_lulus\n",
        "\n",
        "  def tampilkan_info(self):\n",
        "    super().tampilkan_info()\n",
        "    print(f\"Semester: {self.semester}\")\n",
        "    print(f\"SKS Lulus: {self.sks_lulus}\")\n",
        "\n",
        "class MahasiswaMagister(Mahasiswa):\n",
        "  def __init__(self, nama, nim, ipk, judul_tesis, nama_pembimbing):\n",
        "    super().__init__(nama, nim, ipk)\n",
        "    self.judul_tesis = judul_tesis\n",
        "    self.nama_pembimbing = nama_pembimbing\n",
        "\n",
        "  def tampilkan_info(self):\n",
        "    super().tampilkan_info()\n",
        "    print(f\"Judul Tesis: {self.judul_tesis}\")\n",
        "    print(f\"Pembimbing: {self.nama_pembimbing}\")\n",
        "\n",
        "  def hitung_predikat(self):\n",
        "    super().hitung_predikat()\n",
        "    if self.ipk >= 3.76:\n",
        "      return \"Dengan Pujian\"\n",
        "    elif self.ipk >= 3.51:\n",
        "      return \"Sangat Memuaskan\"\n",
        "    else:\n",
        "      return \"Memuaskan\"\n",
        "\n",
        "# === Program Utama ===\n",
        "if __name__ == \"__main__\":\n",
        "  mhs_sar = MahasiswaSarjana(\"Robert\", \"234567\", 3.8, 5, 108)\n",
        "  mhs_mag = MahasiswaMagister(\"Nagyung\", \"123456\", 3.5, \"Implementasi AI dalam Bisnis\", \"Abdul Majid\")\n",
        "  mhs = Mahasiswa(\"Alicia\", \"234234\", 3.9)\n",
        "\n",
        "  print(\"=== INFO MAHASISWA SARJANA ===\")\n",
        "  mhs_sar.tampilkan_info()\n",
        "  print(f\"Predikat: {mhs_sar.hitung_predikat()}\")\n",
        "  print(\"-\" * 30)\n",
        "\n",
        "  print(\"=== INFO MAHASISWA MAGISTER ===\")\n",
        "  mhs_mag.tampilkan_info()\n",
        "  print(f\"Predikat: {mhs_mag.hitung_predikat()}\")\n",
        "  print(\"-\" * 30)\n",
        "\n",
        "  print(\"=== INFO MAHASISWA ===\")\n",
        "  mhs.tampilkan_info()\n",
        "  print(f\"Predikat: {mhs.hitung_predikat()}\")\n",
        "  print(\"-\" * 30)"
      ],
      "metadata": {
        "id": "CiCToqntg4Sq",
        "colab": {
          "base_uri": "https://localhost:8080/"
        },
        "outputId": "0297699c-16d6-4936-d225-88fa7d9033b8"
      },
      "execution_count": 2,
      "outputs": [
        {
          "output_type": "stream",
          "name": "stdout",
          "text": [
            "=== INFO MAHASISWA SARJANA ===\n",
            "Nama: Robert\n",
            "NIM: 234567\n",
            "IPK: 3.8\n",
            "Semester: 5\n",
            "SKS Lulus: 108\n",
            "Predikat: Dengan Pujian\n",
            "------------------------------\n",
            "=== INFO MAHASISWA MAGISTER ===\n",
            "Nama: Nagyung\n",
            "NIM: 123456\n",
            "IPK: 3.5\n",
            "Judul Tesis: Implementasi AI dalam Bisnis\n",
            "Pembimbing: Abdul Majid\n",
            "Predikat: Memuaskan\n",
            "------------------------------\n",
            "=== INFO MAHASISWA ===\n",
            "Nama: Alicia\n",
            "NIM: 234234\n",
            "IPK: 3.9\n",
            "Predikat: Dengan Pujian\n",
            "------------------------------\n"
          ]
        }
      ]
    }
  ]
}